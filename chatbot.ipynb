{
 "cells": [
  {
   "cell_type": "code",
   "execution_count": 87,
   "metadata": {},
   "outputs": [],
   "source": [
    "import numpy as np\n",
    "import tensorflow as tf\n",
    "import re\n",
    "import time\n",
    "import ast\n",
    "from collections import Counter"
   ]
  },
  {
   "cell_type": "markdown",
   "metadata": {},
   "source": [
    "# Loading the dataset\n",
    "\n",
    "We have two files for the dataset.\n",
    "\n",
    "**movie_lines.txt** contains the actual conversations between characters\n",
    "\n",
    "**movie_conversations.txt** contains the indices for conversations in movie_lines.txt."
   ]
  },
  {
   "cell_type": "code",
   "execution_count": 2,
   "metadata": {},
   "outputs": [],
   "source": [
    "lines = open('dataset/movie_lines.txt', encoding='utf-8', errors='ignore').read().split('\\n')\n",
    "conversations = open('dataset/movie_conversations.txt', encoding='utf-8', errors='ignore').read().split('\\n')"
   ]
  },
  {
   "cell_type": "markdown",
   "metadata": {},
   "source": [
    "### Create a dictionary that maps each line to its id"
   ]
  },
  {
   "cell_type": "code",
   "execution_count": 3,
   "metadata": {},
   "outputs": [],
   "source": [
    "id2lines = {}\n",
    "\n",
    "for line in lines:\n",
    "    temp = line.split(' +++$+++ ')\n",
    "    # We only need to get lines which have 5 elements when splitted by +++$+++.\n",
    "    # Due to some error in the dataset, we may have lines which containe fewer or more items when the split is performed.\n",
    "    # We will delete such invalid lines and only use valid lines with length of 5.\n",
    "    if len(temp) == 5:\n",
    "        id2lines[temp[0]] = temp[-1]"
   ]
  },
  {
   "cell_type": "markdown",
   "metadata": {},
   "source": [
    "### Creating a list of all the conversations"
   ]
  },
  {
   "cell_type": "code",
   "execution_count": 4,
   "metadata": {},
   "outputs": [],
   "source": [
    "conversations_index = []\n",
    "\n",
    "# Last item in conversations is empty so, we need to skip it\n",
    "for c in conversations[:-1]:\n",
    "    _temp = c.split(' +++$+++')[-1].strip()\n",
    "    _temp = ast.literal_eval(_temp)\n",
    "    conversations_index.append(_temp)"
   ]
  },
  {
   "cell_type": "markdown",
   "metadata": {},
   "source": [
    "## Get the qestions and answers from the dataset\n",
    "\n",
    "Each **line** in **conversations_index** consists of query and reply.\n",
    "\n",
    "Each item in the **line** is a query and the succedding item is a reply.\n",
    "\n",
    "For example, in a sample line [a, b, c]:\n",
    "\n",
    "    [a, b] is a query-reply pair, where [a] is the query and [b] the reply\n",
    "    [b, c] is a query-reply pair, where [b] is the query and [c] the reply"
   ]
  },
  {
   "cell_type": "code",
   "execution_count": 11,
   "metadata": {},
   "outputs": [],
   "source": [
    "query = []\n",
    "reply = []\n",
    "for c in conversations_index:\n",
    "    for i in range(len(c) - 1):\n",
    "        query.append(id2lines[c[i]].lower())\n",
    "        reply.append(id2lines[c[i + 1]].lower())"
   ]
  },
  {
   "cell_type": "markdown",
   "metadata": {},
   "source": [
    "## Cleaning the text to remove some unnecessary symbols and abbreviations"
   ]
  },
  {
   "cell_type": "code",
   "execution_count": 83,
   "metadata": {},
   "outputs": [],
   "source": [
    "def clean_text(text):\n",
    "    cleaning = {\n",
    "        r\"'m\" : ' am',\n",
    "        r\"'s\" : ' is',\n",
    "        r\"'re\" : ' are',\n",
    "        r\"'ll\" : ' will',\n",
    "        r\"'ve\" : ' have',\n",
    "        r\"'d\" : ' would',\n",
    "        r\"won't\" : 'will not',\n",
    "        r\"can't\" : 'can not',\n",
    "        r\"([\\W])|(^[\\s])\" : ' ',\n",
    "        r\"\\s+\" : ' ',\n",
    "    }\n",
    "    for i in cleaning:\n",
    "        text = re.sub(i, cleaning[i], text)\n",
    "    return text.strip()"
   ]
  },
  {
   "cell_type": "code",
   "execution_count": 86,
   "metadata": {},
   "outputs": [],
   "source": [
    "query = [clean_text(q) for q in query]\n",
    "reply = [clean_text(r) for r in reply]"
   ]
  },
  {
   "cell_type": "markdown",
   "metadata": {},
   "source": [
    "## Construct a count for each word in our corpus\n",
    "This will be used to remove words that do not appear at least **x** times in the dataset."
   ]
  },
  {
   "cell_type": "code",
   "execution_count": 94,
   "metadata": {},
   "outputs": [],
   "source": [
    "word2count = {}\n",
    "for i in query + reply:\n",
    "    for word in i.split():\n",
    "        word2count[word] = word2count.get(word, 0) + 1"
   ]
  },
  {
   "cell_type": "markdown",
   "metadata": {},
   "source": [
    "## Removing the words that do not occur at least x times\n",
    "\n",
    "## Also, we are creating a mapping for each word to a unique index"
   ]
  },
  {
   "cell_type": "code",
   "execution_count": 109,
   "metadata": {},
   "outputs": [],
   "source": [
    "THRESHOLD = 20\n",
    "\n",
    "word2int = {}\n",
    "idx = 0\n",
    "for word, count in word2count.items():\n",
    "    if count >= THRESHOLD:\n",
    "        word2int[word] = idx\n",
    "        idx += 1"
   ]
  },
  {
   "cell_type": "markdown",
   "metadata": {},
   "source": [
    "## Appending special tokens and their unique mappings"
   ]
  },
  {
   "cell_type": "code",
   "execution_count": 110,
   "metadata": {},
   "outputs": [],
   "source": [
    "TOKENS = ('<PAD>', '<EOS>', '<OUT>', '<SOS>')\n",
    "\n",
    "for token in TOKENS:\n",
    "    word2int[token] = len(word2int) + 1"
   ]
  },
  {
   "cell_type": "markdown",
   "metadata": {},
   "source": [
    "## Creating an inverse mapping from id to word"
   ]
  },
  {
   "cell_type": "code",
   "execution_count": 111,
   "metadata": {},
   "outputs": [],
   "source": [
    "int2word = {value : key for key, value in word2int.items()}"
   ]
  },
  {
   "cell_type": "markdown",
   "metadata": {},
   "source": [
    "## Appending EOS token to all replies"
   ]
  },
  {
   "cell_type": "code",
   "execution_count": 114,
   "metadata": {},
   "outputs": [],
   "source": [
    "reply = [a + ' <EOS>' for a in reply]"
   ]
  },
  {
   "cell_type": "code",
   "execution_count": null,
   "metadata": {},
   "outputs": [],
   "source": []
  }
 ],
 "metadata": {
  "kernelspec": {
   "display_name": "Python 3",
   "language": "python",
   "name": "python3"
  },
  "language_info": {
   "codemirror_mode": {
    "name": "ipython",
    "version": 3
   },
   "file_extension": ".py",
   "mimetype": "text/x-python",
   "name": "python",
   "nbconvert_exporter": "python",
   "pygments_lexer": "ipython3",
   "version": "3.6.7"
  }
 },
 "nbformat": 4,
 "nbformat_minor": 2
}
