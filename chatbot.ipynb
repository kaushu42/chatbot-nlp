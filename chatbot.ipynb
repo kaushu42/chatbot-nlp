{
 "cells": [
  {
   "cell_type": "code",
   "execution_count": 20,
   "metadata": {},
   "outputs": [],
   "source": [
    "import numpy as np\n",
    "import tensorflow as tf\n",
    "import re\n",
    "import time\n",
    "import ast"
   ]
  },
  {
   "cell_type": "markdown",
   "metadata": {},
   "source": [
    "# Loading the dataset\n",
    "\n",
    "We have two files for the dataset.\n",
    "\n",
    "**movie_lines.txt** contains the actual conversations between characters\n",
    "\n",
    "**movie_conversations.txt** contains the indices for conversations in movie_lines.txt."
   ]
  },
  {
   "cell_type": "code",
   "execution_count": 5,
   "metadata": {},
   "outputs": [],
   "source": [
    "lines = open('dataset/movie_lines.txt', encoding='utf-8', errors='ignore').read().split('\\n')\n",
    "conversations = open('dataset/movie_conversations.txt', encoding='utf-8', errors='ignore').read().split('\\n')"
   ]
  },
  {
   "cell_type": "markdown",
   "metadata": {},
   "source": [
    "### Create a dictionary that maps each line to its id"
   ]
  },
  {
   "cell_type": "code",
   "execution_count": 32,
   "metadata": {},
   "outputs": [],
   "source": [
    "lines_map = {}\n",
    "\n",
    "for line in lines:\n",
    "    temp = line.split(' +++$+++ ')\n",
    "    # We only need to get lines which have 5 elements when splitted by +++$+++.\n",
    "    # Due to some error in the dataset, we may have lines which containe fewer or more items when the split is performed.\n",
    "    # We will delete such invalid lines and only use valid lines with length of 5.\n",
    "    if len(temp) == 5:\n",
    "        lines_map[temp[0]] = temp[-1]"
   ]
  },
  {
   "cell_type": "markdown",
   "metadata": {},
   "source": [
    "### Creating a list of all the conversations"
   ]
  },
  {
   "cell_type": "code",
   "execution_count": 33,
   "metadata": {},
   "outputs": [],
   "source": [
    "conversations_index = []\n",
    "\n",
    "# Last item in conversations is empty so, we need to skip it\n",
    "for c in conversations[:-1]:\n",
    "    _temp = c.split(' +++$+++')[-1].strip()\n",
    "    _temp = ast.literal_eval(_temp)\n",
    "    conversations_index.append(_temp)"
   ]
  },
  {
   "cell_type": "markdown",
   "metadata": {},
   "source": [
    "## Get the qestions and answers from the dataset\n",
    "\n",
    "Each **line** in **conversations_index** consists of questions and answers.\n",
    "\n",
    "Each item in the **line** is a question and the succedding item is an answer.\n",
    "\n",
    "For example, in a sample line [a, b, c]:\n",
    "\n",
    "    [a, b] is a question-answer pair, where [a] is the question and [b] the answer\n",
    "    \n",
    "    [b, c] is a question-answer pair, where [b] is the question and [c] the answer\n",
    "    "
   ]
  },
  {
   "cell_type": "code",
   "execution_count": 38,
   "metadata": {},
   "outputs": [],
   "source": [
    "questions = []\n",
    "answers = []\n",
    "for c in conversations_index:\n",
    "    for i in range(len(c) - 1):\n",
    "        questions.append(lines_map[c[i]])\n",
    "        answers.append(lines_map[c[i + 1]])"
   ]
  },
  {
   "cell_type": "code",
   "execution_count": null,
   "metadata": {},
   "outputs": [],
   "source": [
    " "
   ]
  }
 ],
 "metadata": {
  "kernelspec": {
   "display_name": "Python 3",
   "language": "python",
   "name": "python3"
  },
  "language_info": {
   "codemirror_mode": {
    "name": "ipython",
    "version": 3
   },
   "file_extension": ".py",
   "mimetype": "text/x-python",
   "name": "python",
   "nbconvert_exporter": "python",
   "pygments_lexer": "ipython3",
   "version": "3.6.7"
  }
 },
 "nbformat": 4,
 "nbformat_minor": 2
}
